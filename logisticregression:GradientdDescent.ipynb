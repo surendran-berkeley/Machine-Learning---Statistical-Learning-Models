{
 "cells": [
  {
   "cell_type": "markdown",
   "metadata": {},
   "source": [
    "### HW 4 Problem 4"
   ]
  },
  {
   "cell_type": "code",
   "execution_count": 1,
   "metadata": {
    "collapsed": true
   },
   "outputs": [],
   "source": [
    "%matplotlib inline\n",
    "import matplotlib.cm as cm\n",
    "import matplotlib.mlab as mlab\n",
    "import math\n",
    "delta = 0.025\n",
    "import matplotlib as mpl\n",
    "import matplotlib.pyplot as plt\n",
    "import numpy as np \n",
    "import matplotlib \n",
    "from sklearn.svm import SVC\n",
    "import scipy.io as sio ## sio.loadmat from sklearn.model_selection import KFold\n",
    "from sklearn.model_selection import KFold\n",
    "import sklearn \n",
    "from sklearn.metrics import accuracy_score\n",
    "from pylab import pcolor, show, colorbar, xticks, yticks\n",
    "import math\n",
    "from sklearn import preprocessing\n",
    "import random\n",
    "mpl.rc('savefig', dpi=100) #The matplotlib.rc() command can be used to modify multiple settings in a single group at once, using keyword arguments:\n",
    "plt.style.use('ggplot') #ggplot is a popular theme for charting"
   ]
  },
  {
   "cell_type": "code",
   "execution_count": 2,
   "metadata": {
    "collapsed": true
   },
   "outputs": [],
   "source": [
    "## Importing and processing data "
   ]
  },
  {
   "cell_type": "code",
   "execution_count": 3,
   "metadata": {
    "collapsed": true
   },
   "outputs": [],
   "source": [
    "wine_data=sio.loadmat(\"data.mat\")\n"
   ]
  },
  {
   "cell_type": "code",
   "execution_count": 4,
   "metadata": {
    "collapsed": false
   },
   "outputs": [],
   "source": [
    "wine_train_shuffle= np.concatenate((wine_data[\"X\"],  wine_data[\"y\"]), axis=1)\n",
    "np.random.shuffle(wine_train_shuffle)"
   ]
  },
  {
   "cell_type": "code",
   "execution_count": 5,
   "metadata": {
    "collapsed": false
   },
   "outputs": [
    {
     "data": {
      "text/plain": [
       "6000"
      ]
     },
     "execution_count": 5,
     "metadata": {},
     "output_type": "execute_result"
    }
   ],
   "source": [
    "wine_train_x=wine_train_shuffle[:,:-1]\n",
    "wine_train_y=wine_train_shuffle[:,-1]\n",
    "(wine_train_y.shape[0])\n"
   ]
  },
  {
   "cell_type": "markdown",
   "metadata": {
    "collapsed": true
   },
   "source": [
    "##### Probme 5: Part 1: Batch Gradient Descent "
   ]
  },
  {
   "cell_type": "code",
   "execution_count": 7,
   "metadata": {
    "collapsed": true
   },
   "outputs": [],
   "source": [
    "## Insert markdown image for batch gradient descent : Refer shewchuck notes \n"
   ]
  },
  {
   "cell_type": "code",
   "execution_count": 8,
   "metadata": {
    "collapsed": false
   },
   "outputs": [],
   "source": [
    "# Function to perform Batch Gradient Descent (all point):\n",
    "np.random.seed(0)\n",
    "\n",
    "def gradient_estimator(s): \n",
    "    ## Function that returns a derivative of the cost function\n",
    "    y,s, x=data\n",
    "    gradient = (y-s)*x\n",
    "    return gradient\n",
    "\n",
    "def score_func(score):\n",
    "    return (1.0/(1.0+ np.exp(-score)))\n",
    "\n",
    "def prediction_score(data, weights, y):\n",
    "    score=np.dot(data, weights)\n",
    "    s=np.apply_along_axis(score_func,0, score)\n",
    "    clas=np.around(s)\n",
    "    return (np.mean(clas==y))\n",
    "    \n",
    "    \n",
    "def BGD(data,labels, lr=0.01, reg_param=0.01, iterations=1000):\n",
    "    # fictitious dimesion \n",
    "    data= np.concatenate((data,np.ones(data.shape[0]).reshape(data.shape[0],1)), axis=1)\n",
    "    valid_dat=data[5600:,:]\n",
    "    #data=data[:5600,:]\n",
    "    y=labels\n",
    "    valid_y=y[5600:]\n",
    "    #y=y[:5600]\n",
    "    mu, sigma = 0, 0.1\n",
    "    weights= np.random.normal(mu, sigma, data.shape[1])    # Initilize with  random weights near zero \n",
    "    ## training \n",
    "    prior_loss=0\n",
    "    count=0\n",
    "    cost=[]\n",
    "    while count<=iterations:\n",
    "        weight_prior=weights\n",
    "        z=np.dot(data, weights)\n",
    "        s=np.apply_along_axis(score_func,0, z)\n",
    "        loss=(1.0/data.shape[0])*(np.sum(np.dot(y,np.log(s))+np.dot((np.ones(y.shape)-y),(np.ones(s.shape[0])-s)))+ reg_param*(np.linalg.norm(weights)**2)) \n",
    "        cost.append(loss)\n",
    "        gradient=1.0/data.shape[0]*np.dot(data.T,(y-s))+2*reg_param*weights\n",
    "        weights=weights+lr*gradient\n",
    "        pred_acc=prediction_score(valid_dat, weights,valid_y)\n",
    "        count+=1\n",
    "    return (weights, pred_acc, cost)     \n",
    "        \n",
    "        \n",
    "        \n",
    "    "
   ]
  },
  {
   "cell_type": "code",
   "execution_count": 9,
   "metadata": {
    "collapsed": false
   },
   "outputs": [
    {
     "name": "stdout",
     "output_type": "stream",
     "text": [
      ".... lr = 1e-06, reg_param =0.0001, accuracy= 0.63\n",
      ".... lr = 1e-06, reg_param =0.001, accuracy= 0.7675\n",
      ".... lr = 1e-06, reg_param =0.01, accuracy= 0.82\n",
      ".... lr = 1e-06, reg_param =0, accuracy= 0.7675\n",
      ".... lr = 1e-06, reg_param =1, accuracy= 0.7675\n",
      ".... lr = 1e-06, reg_param =10, accuracy= 0.7625\n",
      ".... lr = 1e-05, reg_param =0.0001, accuracy= 0.7325\n",
      ".... lr = 1e-05, reg_param =0.001, accuracy= 0.77\n",
      ".... lr = 1e-05, reg_param =0.01, accuracy= 0.7675\n",
      ".... lr = 1e-05, reg_param =0, accuracy= 0.885\n",
      ".... lr = 1e-05, reg_param =1, accuracy= 0.7675\n",
      ".... lr = 1e-05, reg_param =10, accuracy= 0.7725\n",
      ".... lr = 0.0001, reg_param =0.0001, accuracy= 0.895\n",
      ".... lr = 0.0001, reg_param =0.001, accuracy= 0.8725\n",
      ".... lr = 0.0001, reg_param =0.01, accuracy= 0.865\n",
      ".... lr = 0.0001, reg_param =0, accuracy= 0.85\n",
      ".... lr = 0.0001, reg_param =1, accuracy= 0.9225\n",
      ".... lr = 0.0001, reg_param =10, accuracy= 0.745\n",
      ".... lr = 0.001, reg_param =0.0001, accuracy= 0.9375\n",
      ".... lr = 0.001, reg_param =0.001, accuracy= 0.945\n",
      ".... lr = 0.001, reg_param =0.01, accuracy= 0.9325\n",
      ".... lr = 0.001, reg_param =0, accuracy= 0.93\n",
      ".... lr = 0.001, reg_param =1, accuracy= 0.915\n"
     ]
    },
    {
     "name": "stderr",
     "output_type": "stream",
     "text": [
      "/Users/suren/anaconda/envs/python2/lib/python2.7/site-packages/ipykernel/__main__.py:11: RuntimeWarning: overflow encountered in exp\n",
      "/Users/suren/anaconda/envs/python2/lib/python2.7/site-packages/ipykernel/__main__.py:38: RuntimeWarning: divide by zero encountered in log\n"
     ]
    },
    {
     "name": "stdout",
     "output_type": "stream",
     "text": [
      ".... lr = 0.001, reg_param =10, accuracy= 0.9025\n",
      ".... lr = 0.01, reg_param =0.0001, accuracy= 0.935\n",
      ".... lr = 0.01, reg_param =0.001, accuracy= 0.9325\n",
      ".... lr = 0.01, reg_param =0.01, accuracy= 0.88\n",
      ".... lr = 0.01, reg_param =0, accuracy= 0.955\n",
      ".... lr = 0.01, reg_param =1, accuracy= 0.93\n",
      ".... lr = 0.01, reg_param =10, accuracy= 0.685\n",
      ".... lr = 0.1, reg_param =0.0001, accuracy= 0.9525\n",
      ".... lr = 0.1, reg_param =0.001, accuracy= 0.87\n",
      ".... lr = 0.1, reg_param =0.01, accuracy= 0.94\n",
      ".... lr = 0.1, reg_param =0, accuracy= 0.85\n",
      ".... lr = 0.1, reg_param =1, accuracy= 0.7675\n"
     ]
    },
    {
     "name": "stderr",
     "output_type": "stream",
     "text": [
      "/Users/suren/anaconda/envs/python2/lib/python2.7/site-packages/ipykernel/__main__.py:38: RuntimeWarning: overflow encountered in double_scalars\n",
      "/Users/suren/anaconda/envs/python2/lib/python2.7/site-packages/ipykernel/__main__.py:40: RuntimeWarning: overflow encountered in multiply\n"
     ]
    },
    {
     "name": "stdout",
     "output_type": "stream",
     "text": [
      ".... lr = 0.1, reg_param =10, accuracy= 0.0\n",
      ".... lr = 1, reg_param =0.0001, accuracy= 0.875\n",
      ".... lr = 1, reg_param =0.001, accuracy= 0.94\n",
      ".... lr = 1, reg_param =0.01, accuracy= 0.93\n",
      ".... lr = 1, reg_param =0, accuracy= 0.9425\n"
     ]
    },
    {
     "name": "stderr",
     "output_type": "stream",
     "text": [
      "/Users/suren/anaconda/envs/python2/lib/python2.7/site-packages/ipykernel/__main__.py:41: RuntimeWarning: overflow encountered in add\n"
     ]
    },
    {
     "name": "stdout",
     "output_type": "stream",
     "text": [
      ".... lr = 1, reg_param =1, accuracy= 0.0\n",
      ".... lr = 1, reg_param =10, accuracy= 0.0\n"
     ]
    }
   ],
   "source": [
    "\n",
    "# Cross validation \n",
    "c_v_bgd={}\n",
    "for lr in [0.000001, 0.00001,0.0001,0.001,0.01,0.1,1]:\n",
    "    for reg_param in [0.0001, 0.001,0.01,0, 1, 10]:\n",
    "        learn=BGD(wine_train_x, wine_train_y, lr, reg_param)\n",
    "        print \".... lr = %s, reg_param =%s, accuracy= %s\" %(lr, reg_param, learn[1])\n",
    "        c_v_bgd[learn[1]]=(lr, reg_param)\n",
    "        \n",
    "\n",
    "\n",
    "\n",
    "\n"
   ]
  },
  {
   "cell_type": "code",
   "execution_count": 10,
   "metadata": {
    "collapsed": false
   },
   "outputs": [],
   "source": [
    "    #Finding values for the best parameters\n",
    "    lr, reg_param=c_v_bgd[sorted(c_v_bgd)[-1]]\n",
    "    learn=BGD(wine_train_x, wine_train_y,lr , reg_param, 4000)\n"
   ]
  },
  {
   "cell_type": "code",
   "execution_count": 11,
   "metadata": {
    "collapsed": false
   },
   "outputs": [
    {
     "data": {
      "text/plain": [
       "(-3, 2)"
      ]
     },
     "execution_count": 11,
     "metadata": {},
     "output_type": "execute_result"
    },
    {
     "data": {
      "image/png": "[encoded data removed]",
      "text/plain": [
       "<matplotlib.figure.Figure at 0x104521950>"
      ]
     },
     "metadata": {},
     "output_type": "display_data"
    }
   ],
   "source": [
    "from sklearn.preprocessing import MinMaxScaler\n",
    "scaler = MinMaxScaler()\n",
    "iterations=np.arange(4001)\n",
    "cost= np.asarray(learn[2]) #Scaled the values of cost to fit the plot \n",
    "plt.plot(iterations, cost, linewidth=2.0, label=\"training\")\n",
    "plt.xlabel(\"Iterations\")\n",
    "plt.ylabel(\"Cost\")\n",
    "plt.title(\"Batch Gradient Descent - Logistic Regression\")\n",
    "plt.ylim(-3, 2)"
   ]
  },
  {
   "cell_type": "markdown",
   "metadata": {
    "collapsed": false
   },
   "source": [
    "##### Part 2 "
   ]
  },
  {
   "cell_type": "code",
   "execution_count": 28,
   "metadata": {
    "collapsed": true
   },
   "outputs": [],
   "source": [
    "# Function to perform Batch Gradient Descent (all point):\n",
    "np.random.seed(0)\n",
    "\n",
    "def gradient_estimator(s): \n",
    "    ## Function that returns a derivative of the cost function\n",
    "    y,s, x=data\n",
    "    gradient = (y-s)*x\n",
    "    return gradient\n",
    "\n",
    "def score_func(score):\n",
    "    return (1.0/(1.0+ np.exp(-score)))\n",
    "\n",
    "def prediction_score(data, weights, y):\n",
    "    score=np.dot(data, weights)\n",
    "    s=np.apply_along_axis(score_func,0, score)\n",
    "    clas=np.around(s)\n",
    "    return (np.mean(clas==y))\n",
    "    \n",
    "    \n",
    "def SGD(data,labels, lr=0.01, reg_param=0.01, iterations=1000):\n",
    "    # fictitious dimesion \n",
    "    data= np.concatenate((data,np.ones(data.shape[0]).reshape(data.shape[0],1)), axis=1)\n",
    "    valid_dat=data[5600:,:]\n",
    "    data=data[:5600,:]\n",
    "    y=labels\n",
    "    valid_y=y[5600:]\n",
    "    y=y[:5600]\n",
    "    mu, sigma = 0, 0.1\n",
    "    weights= np.random.normal(mu, sigma, data.shape[1])    # Initilize with  random weights near zero \n",
    "    ## training \n",
    "    prior_loss=0\n",
    "    count=0\n",
    "    cost=[]\n",
    "    while count<=iterations:\n",
    "        weight_prior=weights\n",
    "        randomizer=np.random.choice(data.shape[0],1)\n",
    "        data=data[randomizer]\n",
    "        y=y[randomizer]\n",
    "        z=np.dot(data, weights)\n",
    "        s=score_func(z)\n",
    "        loss=(np.sum(np.dot(y,np.log(s))+np.dot((np.ones(y.shape)-y),(np.ones(s.shape[0])-s)))+ reg_param*(np.linalg.norm(weights)**2)) \n",
    "        cost.append(loss)\n",
    "        gradient=1.0/data.shape[0]*np.dot(data.T,(y-s))+2*reg_param*weights\n",
    "        weights=weights+lr*gradient\n",
    "        pred_acc=prediction_score(valid_dat, weights,valid_y)\n",
    "        count+=1\n",
    "    return (weights, pred_acc, cost)     \n",
    "        \n",
    "        "
   ]
  },
  {
   "cell_type": "code",
   "execution_count": 29,
   "metadata": {
    "collapsed": false
   },
   "outputs": [
    {
     "name": "stdout",
     "output_type": "stream",
     "text": [
      ".... lr = 1e-06, reg_param =0.0001, accuracy= 0.8475\n",
      ".... lr = 1e-06, reg_param =0.001, accuracy= 0.2325\n",
      ".... lr = 1e-06, reg_param =0.01, accuracy= 0.225\n",
      ".... lr = 1e-06, reg_param =0, accuracy= 0.2325\n",
      ".... lr = 1e-06, reg_param =1, accuracy= 0.7675\n",
      ".... lr = 1e-06, reg_param =10, accuracy= 0.8325\n",
      ".... lr = 1e-06, reg_param =100, accuracy= 0.165\n",
      ".... lr = 1e-05, reg_param =0.0001, accuracy= 0.7675\n",
      ".... lr = 1e-05, reg_param =0.001, accuracy= 0.7675\n",
      ".... lr = 1e-05, reg_param =0.01, accuracy= 0.7675\n",
      ".... lr = 1e-05, reg_param =0, accuracy= 0.7675\n",
      ".... lr = 1e-05, reg_param =1, accuracy= 0.875\n",
      ".... lr = 1e-05, reg_param =10, accuracy= 0.7675\n",
      ".... lr = 1e-05, reg_param =100, accuracy= 0.2275\n",
      ".... lr = 0.0001, reg_param =0.0001, accuracy= 0.775\n",
      ".... lr = 0.0001, reg_param =0.001, accuracy= 0.7675\n",
      ".... lr = 0.0001, reg_param =0.01, accuracy= 0.7675\n",
      ".... lr = 0.0001, reg_param =0, accuracy= 0.2325\n",
      ".... lr = 0.0001, reg_param =1, accuracy= 0.7675\n",
      ".... lr = 0.0001, reg_param =10, accuracy= 0.835\n"
     ]
    },
    {
     "name": "stderr",
     "output_type": "stream",
     "text": [
      "/Users/suren/anaconda/envs/python2/lib/python2.7/site-packages/ipykernel/__main__.py:11: RuntimeWarning: overflow encountered in exp\n",
      "/Users/suren/anaconda/envs/python2/lib/python2.7/site-packages/ipykernel/__main__.py:41: RuntimeWarning: divide by zero encountered in log\n"
     ]
    },
    {
     "name": "stdout",
     "output_type": "stream",
     "text": [
      ".... lr = 0.0001, reg_param =100, accuracy= 0.73\n",
      ".... lr = 0.001, reg_param =0.0001, accuracy= 0.2325\n",
      ".... lr = 0.001, reg_param =0.001, accuracy= 0.7925\n",
      ".... lr = 0.001, reg_param =0.01, accuracy= 0.2325\n",
      ".... lr = 0.001, reg_param =0, accuracy= 0.7675\n",
      ".... lr = 0.001, reg_param =1, accuracy= 0.7675\n",
      ".... lr = 0.001, reg_param =10, accuracy= 0.7675\n",
      ".... lr = 0.001, reg_param =100, accuracy= 0.7675\n",
      ".... lr = 0.01, reg_param =0.0001, accuracy= 0.77\n",
      ".... lr = 0.01, reg_param =0.001, accuracy= 0.82\n",
      ".... lr = 0.01, reg_param =0.01, accuracy= 0.7675\n",
      ".... lr = 0.01, reg_param =0, accuracy= 0.2325\n",
      ".... lr = 0.01, reg_param =1, accuracy= 0.7675\n",
      ".... lr = 0.01, reg_param =10, accuracy= 0.7675\n"
     ]
    },
    {
     "name": "stderr",
     "output_type": "stream",
     "text": [
      "/Users/suren/anaconda/envs/python2/lib/python2.7/site-packages/ipykernel/__main__.py:41: RuntimeWarning: overflow encountered in double_scalars\n",
      "/Users/suren/anaconda/envs/python2/lib/python2.7/site-packages/ipykernel/__main__.py:43: RuntimeWarning: overflow encountered in multiply\n"
     ]
    },
    {
     "name": "stdout",
     "output_type": "stream",
     "text": [
      ".... lr = 0.01, reg_param =100, accuracy= 0.0\n",
      ".... lr = 0.1, reg_param =0.0001, accuracy= 0.7675\n",
      ".... lr = 0.1, reg_param =0.001, accuracy= 0.2325\n",
      ".... lr = 0.1, reg_param =0.01, accuracy= 0.7675\n",
      ".... lr = 0.1, reg_param =0, accuracy= 0.7675\n",
      ".... lr = 0.1, reg_param =1, accuracy= 0.2325\n",
      ".... lr = 0.1, reg_param =10, accuracy= 0.0\n",
      ".... lr = 0.1, reg_param =100, accuracy= 0.0\n",
      ".... lr = 1, reg_param =0.0001, accuracy= 0.7675\n",
      ".... lr = 1, reg_param =0.001, accuracy= 0.2325\n",
      ".... lr = 1, reg_param =0.01, accuracy= 0.7675\n",
      ".... lr = 1, reg_param =0, accuracy= 0.7675\n",
      ".... lr = 1, reg_param =1, accuracy= 0.0\n"
     ]
    },
    {
     "name": "stderr",
     "output_type": "stream",
     "text": [
      "/Users/suren/anaconda/envs/python2/lib/python2.7/site-packages/ipykernel/__main__.py:44: RuntimeWarning: overflow encountered in add\n"
     ]
    },
    {
     "name": "stdout",
     "output_type": "stream",
     "text": [
      ".... lr = 1, reg_param =10, accuracy= 0.0\n",
      ".... lr = 1, reg_param =100, accuracy= 0.0\n"
     ]
    }
   ],
   "source": [
    "c_v_sgd={}\n",
    "for lr in [0.000001, 0.00001,0.0001,0.001,0.01,0.1,1]:\n",
    "    for reg_param in [0.0001, 0.001,0.01,0, 1, 10, 100]:\n",
    "        learn=SGD(wine_train_x, wine_train_y, lr, reg_param)\n",
    "        print \".... lr = %s, reg_param =%s, accuracy= %s\" %(lr, reg_param, learn[1])\n",
    "        c_v_sgd[learn[1]]=(lr, reg_param)\n",
    "        \n",
    "\n"
   ]
  },
  {
   "cell_type": "code",
   "execution_count": 30,
   "metadata": {
    "collapsed": false
   },
   "outputs": [],
   "source": [
    "#Finding values for the best parameters\n",
    "lr, reg_param=c_v_sgd[sorted(c_v_sgd)[-1]]\n",
    "learn_sgd=SGD(wine_train_x, wine_train_y,lr , reg_param, 1000)\n",
    "\n"
   ]
  },
  {
   "cell_type": "code",
   "execution_count": 33,
   "metadata": {
    "collapsed": false
   },
   "outputs": [
    {
     "data": {
      "text/plain": [
       "(-10, 10)"
      ]
     },
     "execution_count": 33,
     "metadata": {},
     "output_type": "execute_result"
    },
    {
     "data": {
      "image/png": "[encoded data removed]",
      "text/plain": [
       "<matplotlib.figure.Figure at 0x10f74b0d0>"
      ]
     },
     "metadata": {},
     "output_type": "display_data"
    }
   ],
   "source": [
    "scaler = MinMaxScaler()\n",
    "iterations=np.arange(1001)\n",
    "cost= np.asarray(learn_sgd[2])#Scaled the values of cost to fit the plot \n",
    "plt.plot(iterations, cost, linewidth=2.0, label=\"training\")\n",
    "plt.xlabel(\"Iterations\")\n",
    "plt.ylabel(\"Cost\")\n",
    "plt.title(\"Stochastic Gradient Descent - Logistic Regression\")\n",
    "plt.ylim(-10, 10)"
   ]
  },
  {
   "cell_type": "markdown",
   "metadata": {
    "collapsed": true
   },
   "source": [
    "There can be certain level of Oscillations in terms of cost as Batch gradient descent approaches \n",
    "convergence, while SGD is much smoother and monotonic"
   ]
  },
  {
   "cell_type": "code",
   "execution_count": 327,
   "metadata": {
    "collapsed": false
   },
   "outputs": [],
   "source": [
    "## write comment "
   ]
  },
  {
   "cell_type": "markdown",
   "metadata": {
    "collapsed": false
   },
   "source": [
    "#### Part 3: Varying epsilon"
   ]
  },
  {
   "cell_type": "code",
   "execution_count": 48,
   "metadata": {
    "collapsed": false
   },
   "outputs": [],
   "source": [
    "def SGD_var(data,labels, alpha, lr=0.01, reg_param=0.01, iterations=10000):\n",
    "    # fictitious dimesion \n",
    "    data= np.concatenate((data,np.ones(data.shape[0]).reshape(data.shape[0],1)), axis=1)\n",
    "    valid_dat=data[5600:,:]\n",
    "    data=data[:5600,:]\n",
    "    y=labels\n",
    "    valid_y=y[5600:]\n",
    "    y=y[:5600]\n",
    "    mu, sigma = 0, 0.1\n",
    "    weights= np.random.normal(mu, sigma, data.shape[1])    # Initilize with  random weights near zero \n",
    "    ## training \n",
    "    prior_loss=0\n",
    "    lr_decay=[]\n",
    "    cost=[]\n",
    "    count=1\n",
    "    while count<=iterations:\n",
    "        weight_prior=weights\n",
    "        randomizer=np.random.choice(data.shape[0],1)\n",
    "        data=data[randomizer]\n",
    "        y=y[randomizer]\n",
    "        z=np.dot(data, weights)\n",
    "        s=score_func(z)\n",
    "        loss=(np.sum(np.dot(y,np.log(s))+np.dot((np.ones(y.shape)-y),(np.ones(s.shape[0])-s)))+ reg_param*(np.linalg.norm(weights)**2)) \n",
    "        cost.append(loss)\n",
    "        lr_decay.append(lr)\n",
    "        gradient=1.0/data.shape[0]*np.dot(data.T,(y-s))+2*reg_param*weights\n",
    "        weights=weights+lr*gradient\n",
    "        pred_acc=prediction_score(valid_dat, weights,valid_y)\n",
    "        lr=lr/(1+alpha*count)\n",
    "        count+=1\n",
    "    return (weights, pred_acc, cost, lr_decay, alpha )     \n",
    "        \n",
    "          \n",
    "    \n"
   ]
  },
  {
   "cell_type": "code",
   "execution_count": 64,
   "metadata": {
    "collapsed": false
   },
   "outputs": [
    {
     "name": "stdout",
     "output_type": "stream",
     "text": [
      ".... lr = 1e-06, reg_param =1, , alpha=2, accuracy= 0.8275\n",
      ".... lr = 1e-06, reg_param =10, , alpha=1, accuracy= 0.81\n",
      ".... lr = 1e-06, reg_param =10, , alpha=1000, accuracy= 0.845\n",
      ".... lr = 1e-06, reg_param =100, , alpha=2, accuracy= 0.8525\n",
      ".... lr = 1e-05, reg_param =0.0001, , alpha=1, accuracy= 0.875\n",
      ".... lr = 1e-05, reg_param =0.0001, , alpha=2, accuracy= 0.8175\n",
      ".... lr = 1e-05, reg_param =0.001, , alpha=0.001, accuracy= 0.8325\n",
      ".... lr = 0.0001, reg_param =0.0001, , alpha=0.001, accuracy= 0.885\n",
      ".... lr = 0.0001, reg_param =0.01, , alpha=100, accuracy= 0.9275\n",
      ".... lr = 0.0001, reg_param =1, , alpha=1000, accuracy= 0.9175\n",
      ".... lr = 0.0001, reg_param =10, , alpha=2, accuracy= 0.8575\n",
      ".... lr = 0.0001, reg_param =10, , alpha=1000, accuracy= 0.81\n",
      ".... lr = 0.001, reg_param =0.0001, , alpha=1, accuracy= 0.8025\n",
      ".... lr = 0.001, reg_param =0.01, , alpha=0.01, accuracy= 0.825\n",
      ".... lr = 0.01, reg_param =1, , alpha=1000, accuracy= 0.825\n"
     ]
    },
    {
     "name": "stderr",
     "output_type": "stream",
     "text": [
      "/Users/suren/anaconda/envs/python2/lib/python2.7/site-packages/ipykernel/__main__.py:11: RuntimeWarning: overflow encountered in exp\n",
      "/Users/suren/anaconda/envs/python2/lib/python2.7/site-packages/ipykernel/__main__.py:23: RuntimeWarning: divide by zero encountered in log\n"
     ]
    },
    {
     "name": "stdout",
     "output_type": "stream",
     "text": [
      ".... lr = 0.01, reg_param =10, , alpha=1, accuracy= 0.8075\n",
      ".... lr = 0.01, reg_param =100, , alpha=0.001, accuracy= 0.8175\n",
      ".... lr = 1, reg_param =0.01, , alpha=2, accuracy= 0.83\n"
     ]
    },
    {
     "name": "stderr",
     "output_type": "stream",
     "text": [
      "/Users/suren/anaconda/envs/python2/lib/python2.7/site-packages/ipykernel/__main__.py:23: RuntimeWarning: overflow encountered in double_scalars\n"
     ]
    }
   ],
   "source": [
    "c_v_sgd_var={}\n",
    "for lr in [0.000001, 0.00001,0.0001,0.001,0.01,0.1,1]:\n",
    "    for reg_param in [0.0001, 0.001,0.01, 1, 10, 100]:\n",
    "            for alpha in [0.001, 0.01, 1, 2, 100, 1000]:\n",
    "                learn=SGD_var(wine_train_x, wine_train_y,alpha, lr, reg_param)\n",
    "                if learn[1]>0.8:\n",
    "                    print \".... lr = %s, reg_param =%s, , alpha=%s, accuracy= %s\" %(lr, reg_param,alpha, learn[1])\n",
    "                    c_v_sgd_var[learn[1]]=(lr, reg_param, alpha)\n",
    "                else:\n",
    "                    pass\n",
    "        "
   ]
  },
  {
   "cell_type": "code",
   "execution_count": 67,
   "metadata": {
    "collapsed": false
   },
   "outputs": [],
   "source": [
    "#Finding values for the best parameters\n",
    "lr, reg_param, alpha=c_v_sgd_var[sorted(c_v_sgd_var)[-1]]\n",
    "learn_sgd_var=SGD_var(wine_train_x, wine_train_y,alpha, lr , reg_param, 10000)\n",
    "\n"
   ]
  },
  {
   "cell_type": "markdown",
   "metadata": {},
   "source": [
    "#### Part 5 : Kaggle"
   ]
  },
  {
   "cell_type": "code",
   "execution_count": 86,
   "metadata": {
    "collapsed": false
   },
   "outputs": [
    {
     "data": {
      "text/plain": [
       "(497, 13)"
      ]
     },
     "execution_count": 86,
     "metadata": {},
     "output_type": "execute_result"
    }
   ],
   "source": [
    "data=wine_data[\"X_test\"]\n",
    "data= np.concatenate((data,np.ones(data.shape[0]).reshape(data.shape[0],1)), axis=1)\n",
    "\n",
    "\n",
    "data.shape\n"
   ]
  },
  {
   "cell_type": "code",
   "execution_count": 87,
   "metadata": {
    "collapsed": false
   },
   "outputs": [],
   "source": [
    "## Spam \n",
    "\n",
    "\n",
    "def prediction_s(data, weights):\n",
    "    score=np.dot(data, weights)\n",
    "    s=np.apply_along_axis(score_func,0, score)\n",
    "    clas=np.around(s)\n",
    "    return clas\n",
    "    \n",
    "#Finding values for the best parameters\n",
    "lr, reg_param=c_v_bgd[sorted(c_v_bgd)[-1]]\n",
    "learn=BGD(wine_train_x, wine_train_y,lr , 0, 20000)\n",
    "pred=prediction_s(data, learn[0])\n",
    "\n"
   ]
  },
  {
   "cell_type": "code",
   "execution_count": 88,
   "metadata": {
    "collapsed": false
   },
   "outputs": [
    {
     "name": "stdout",
     "output_type": "stream",
     "text": [
      "498\n"
     ]
    }
   ],
   "source": [
    "id=0\n",
    "data=[[\"id\",\"Category\"]]\n",
    "for i in pred:\n",
    "    bb=[id, int(i)]\n",
    "    data.append(bb)\n",
    "    id+=1\n",
    "print len(data)"
   ]
  },
  {
   "cell_type": "code",
   "execution_count": 89,
   "metadata": {
    "collapsed": true
   },
   "outputs": [],
   "source": [
    "import csv\n",
    "with open(\"kaggle4.csv\", \"w\") as output:\n",
    "    writer = csv.writer(output, lineterminator='\\n')\n",
    "    writer.writerows(data)"
   ]
  },
  {
   "cell_type": "markdown",
   "metadata": {},
   "source": [
    "### Kaggle Score : 0.94758\n",
    "Username: Surendran Subbiah"
   ]
  },
  {
   "cell_type": "markdown",
   "metadata": {
    "collapsed": true
   },
   "source": [
    "### Problem 1 "
   ]
  },
  {
   "cell_type": "code",
   "execution_count": 3,
   "metadata": {
    "collapsed": true
   },
   "outputs": [],
   "source": [
    "### Part 4.a\n"
   ]
  },
  {
   "cell_type": "code",
   "execution_count": 5,
   "metadata": {
    "collapsed": false
   },
   "outputs": [],
   "source": [
    "import numpy as np\n",
    "\n",
    "## Adding number one as a bias trick \n",
    "X = np.array([[0,3,1],    \n",
    "              [1,3,1],\n",
    "              [0,1,1],\n",
    "              [1,1,1]])\n",
    "y = np.array([1,1,0,0])\n",
    "w_o = np.array([-2,1,0])"
   ]
  },
  {
   "cell_type": "code",
   "execution_count": 13,
   "metadata": {
    "collapsed": true
   },
   "outputs": [],
   "source": [
    "def s(x, w):\n",
    "    x_w= np.dot(x,w)\n",
    "    scores=[]\n",
    "    for i in x_w:\n",
    "        sc=1/1+ np.exp(-i)\n",
    "        scores.append(sc)\n",
    "    return scores"
   ]
  },
  {
   "cell_type": "code",
   "execution_count": 14,
   "metadata": {
    "collapsed": true
   },
   "outputs": [],
   "source": [
    "s_0= s(X, w_o)"
   ]
  },
  {
   "cell_type": "code",
   "execution_count": 15,
   "metadata": {
    "collapsed": false
   },
   "outputs": [
    {
     "data": {
      "text/plain": [
       "[1.0497870683678638,\n",
       " 1.3678794411714423,\n",
       " 1.3678794411714423,\n",
       " 3.7182818284590451]"
      ]
     },
     "execution_count": 15,
     "metadata": {},
     "output_type": "execute_result"
    }
   ],
   "source": [
    "s_0"
   ]
  },
  {
   "cell_type": "code",
   "execution_count": 16,
   "metadata": {
    "collapsed": true
   },
   "outputs": [],
   "source": [
    "## Part 4.b"
   ]
  },
  {
   "cell_type": "code",
   "execution_count": 28,
   "metadata": {
    "collapsed": true
   },
   "outputs": [],
   "source": [
    "def gradient(w_t, x, y, reg_param):\n",
    "    s_1=s(x,w_t)\n",
    "    graadient=-np.dot(x.T, (y-s_1))+ reg_param* w_t\n",
    "    update=w_t+ graadient\n",
    "    return update\n",
    "    "
   ]
  },
  {
   "cell_type": "code",
   "execution_count": 29,
   "metadata": {
    "collapsed": false
   },
   "outputs": [],
   "source": [
    "w_1=gradient(w_o, X, y, 0.07)"
   ]
  },
  {
   "cell_type": "code",
   "execution_count": 30,
   "metadata": {
    "collapsed": false
   },
   "outputs": [
    {
     "data": {
      "text/plain": [
       "array([ 1.94616127,  7.4091608 ,  5.50382778])"
      ]
     },
     "execution_count": 30,
     "metadata": {},
     "output_type": "execute_result"
    }
   ],
   "source": [
    "w_1"
   ]
  },
  {
   "cell_type": "code",
   "execution_count": 31,
   "metadata": {
    "collapsed": true
   },
   "outputs": [],
   "source": [
    "### Part 4.c:\n"
   ]
  },
  {
   "cell_type": "code",
   "execution_count": 32,
   "metadata": {
    "collapsed": true
   },
   "outputs": [],
   "source": [
    "s_1=s(X, w_1)"
   ]
  },
  {
   "cell_type": "code",
   "execution_count": 33,
   "metadata": {
    "collapsed": false
   },
   "outputs": [
    {
     "data": {
      "text/plain": [
       "[1.0000000000009046, 1.0000000000001292, 1.000002465814011, 1.0000003521706959]"
      ]
     },
     "execution_count": 33,
     "metadata": {},
     "output_type": "execute_result"
    }
   ],
   "source": [
    "s_1"
   ]
  },
  {
   "cell_type": "code",
   "execution_count": 34,
   "metadata": {
    "collapsed": true
   },
   "outputs": [],
   "source": [
    "## Part 4. d:\n"
   ]
  },
  {
   "cell_type": "code",
   "execution_count": 35,
   "metadata": {
    "collapsed": true
   },
   "outputs": [],
   "source": [
    "w_2=gradient(w_1, X, y, 0.07)"
   ]
  },
  {
   "cell_type": "code",
   "execution_count": 36,
   "metadata": {
    "collapsed": false
   },
   "outputs": [
    {
     "data": {
      "text/plain": [
       "array([ 3.08239291,  9.92780487,  7.88909854])"
      ]
     },
     "execution_count": 36,
     "metadata": {},
     "output_type": "execute_result"
    }
   ],
   "source": [
    "w_2"
   ]
  },
  {
   "cell_type": "markdown",
   "metadata": {
    "collapsed": true
   },
   "source": [
    "### Problem 5"
   ]
  },
  {
   "cell_type": "markdown",
   "metadata": {},
   "source": [
    "There is inconsistency the feature added by Daniel. He has choosen to add milliseconds as feature. However there is a wide wide deviations in magnitude and range of the feature. Millisconds values as they approach the midnight will be way higher of several thosands while the milliseconds after midnight will be around 0 and so on. This variation in magnitude may be a reason for lack of improvement in prediction by the classifer after having adding the feature. He can mitigate this issue by either binning time slots. In this instance 23:30 to 00:30 can be  bin and following that every hour can be a bin. He can also. Since he has observed that there is a very visible spike near midnight, he can transform the timestamps to binary features indicating 1 for anything between 23:30 to 00:30  and 0 otherwise. Now that his feature issue has been taken care of, he can proceed with trying linear as well as quadratic kernel and choose one that gives better test accuracy in predicting SPAM or HAM"
   ]
  },
  {
   "cell_type": "code",
   "execution_count": null,
   "metadata": {
    "collapsed": true
   },
   "outputs": [],
   "source": []
  }
 ],
 "metadata": {
  "anaconda-cloud": {},
  "kernelspec": {
   "display_name": "Python [python2]",
   "language": "python",
   "name": "Python [python2]"
  },
  "language_info": {
   "codemirror_mode": {
    "name": "ipython",
    "version": 2
   },
   "file_extension": ".py",
   "mimetype": "text/x-python",
   "name": "python",
   "nbconvert_exporter": "python",
   "pygments_lexer": "ipython2",
   "version": "2.7.12"
  }
 },
 "nbformat": 4,
 "nbformat_minor": 0
}
