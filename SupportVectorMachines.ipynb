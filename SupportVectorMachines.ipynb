{
 "cells": [
  {
   "cell_type": "markdown",
   "metadata": {},
   "source": [
    "##  HW 1 - Classification training \n",
    "\n"
   ]
  },
  {
   "cell_type": "code",
   "execution_count": 23,
   "metadata": {
    "collapsed": false
   },
   "outputs": [],
   "source": [
    "## Dependencies\n",
    "%matplotlib inline\n",
    "\n",
    "import matplotlib as mpl\n",
    "import matplotlib.pyplot as plt\n",
    "import numpy as np \n",
    "import matplotlib \n",
    "from sklearn.svm import SVC\n",
    "import scipy.io as sio ## sio.loadmat from sklearn.model_selection import KFold\n",
    "from sklearn.model_selection import KFold\n",
    "\n",
    "n\n",
    "mpl.rc('savefig', dpi=100) #The matplotlib.rc() command can be used to modify multiple settings in a single group at once, using keyword arguments:\n",
    "plt.style.use('ggplot') #ggplot is a popular theme for charting"
   ]
  },
  {
   "cell_type": "markdown",
   "metadata": {},
   "source": [
    "## Problem 1 - Shuffle and Partition"
   ]
  },
  {
   "cell_type": "markdown",
   "metadata": {},
   "source": [
    "#### MNIST data prep\n"
   ]
  },
  {
   "cell_type": "code",
   "execution_count": 2,
   "metadata": {
    "collapsed": false
   },
   "outputs": [],
   "source": [
    "mnist_data=sio.loadmat(\"mnist/train.mat\") # Seperate test set available\n",
    "\n",
    "## Shuffle Data \n",
    "\n",
    "np.random.shuffle(mnist_data[\"trainX\"])\n",
    "mnist_train=mnist_data[\"trainX\"][:50000,:-1] # Slice off the training data\n",
    "mnist_labels=mnist_data[\"trainX\"][:50000,-1] # Slice off the test data \n",
    "mnist_valid=mnist_data[\"trainX\"][50000:,:-1] # Slice off the training data\n",
    "mnist_valid_labels=mnist_data[\"trainX\"][50000:,-1] # Slice off the test data \n",
    "\n",
    "\n",
    "\n",
    "\n"
   ]
  },
  {
   "cell_type": "markdown",
   "metadata": {},
   "source": [
    "#### SPAM data prep "
   ]
  },
  {
   "cell_type": "code",
   "execution_count": 29,
   "metadata": {
    "collapsed": false
   },
   "outputs": [
    {
     "name": "stderr",
     "output_type": "stream",
     "text": [
      "/research/deeplearnEDU/mooc_v2/data/home/surendran/research/deeplearnEDU/mooc_v2/data/lib/python2.7/site-packages/IPython/kernel/__main__.py:8: VisibleDeprecationWarning: using a non-integer number instead of an integer will result in an error in the future\n",
      "/research/deeplearnEDU/mooc_v2/data/home/surendran/research/deeplearnEDU/mooc_v2/data/lib/python2.7/site-packages/IPython/kernel/__main__.py:9: VisibleDeprecationWarning: using a non-integer number instead of an integer will result in an error in the future\n",
      "/research/deeplearnEDU/mooc_v2/data/home/surendran/research/deeplearnEDU/mooc_v2/data/lib/python2.7/site-packages/IPython/kernel/__main__.py:10: VisibleDeprecationWarning: using a non-integer number instead of an integer will result in an error in the future\n",
      "/research/deeplearnEDU/mooc_v2/data/home/surendran/research/deeplearnEDU/mooc_v2/data/lib/python2.7/site-packages/IPython/kernel/__main__.py:11: VisibleDeprecationWarning: using a non-integer number instead of an integer will result in an error in the future\n"
     ]
    }
   ],
   "source": [
    "spam_data=sio.loadmat(\"spam/spam_data.mat\") ## includes test_data \n",
    "\n",
    "## Shuffle Data\n",
    "\n",
    "spam_data=np.concatenate((spam_data[\"training_data\"], spam_data[\"training_labels\"].T), axis=1)\n",
    "np.random.shuffle(spam_data)\n",
    "train_samples=spam_data.shape[0]*0.8\n",
    "spam_train=spam_data[:train_samples,:-1]\n",
    "spam_labels=spam_data[:train_samples,-1]\n",
    "spam_valid=spam_data[train_samples:,:-1]\n",
    "spam_valid_data=spam_data[train_samples:,-1]"
   ]
  },
  {
   "cell_type": "markdown",
   "metadata": {
    "collapsed": false
   },
   "source": [
    "### CIFAR data prep"
   ]
  },
  {
   "cell_type": "code",
   "execution_count": 4,
   "metadata": {
    "collapsed": true
   },
   "outputs": [],
   "source": [
    "cifar_data=sio.loadmat(\"cifar/train.mat\")\n",
    "\n",
    "## Shuffle Data \n",
    "\n",
    "np.random.shuffle(cifar_data[\"trainX\"])\n",
    "cifar_train_samples=cifar_data[\"trainX\"].shape[0]-5000\n",
    "cifar_train=cifar_data[\"trainX\"][:cifar_train_samples,:-1]\n",
    "cifar_labels=cifar_data[\"trainX\"][:cifar_train_samples,-1]\n",
    "cifar_valid=cifar_data[\"trainX\"][cifar_train_samples:,:-1]\n",
    "cifar_valid_labels=cifar_data[\"trainX\"][cifar_train_samples:, -1]"
   ]
  },
  {
   "cell_type": "markdown",
   "metadata": {
    "collapsed": false
   },
   "source": [
    "## Problem 2 - Linear SVM "
   ]
  },
  {
   "cell_type": "markdown",
   "metadata": {
    "collapsed": true
   },
   "source": [
    "### 1. MNIST"
   ]
  },
  {
   "cell_type": "code",
   "execution_count": 5,
   "metadata": {
    "collapsed": false
   },
   "outputs": [
    {
     "name": "stdout",
     "output_type": "stream",
     "text": [
      "Training Accuracy 100 pts MNIST\n",
      "1.0\n",
      "Validation Accuracy 100 pts MNIST\n",
      "0.7327\n"
     ]
    }
   ],
   "source": [
    "### 100 Samples \n",
    "\n",
    "mnist_100_data=mnist_train[:100]\n",
    "mnist_100_labels=mnist_labels[:100]\n",
    "\n",
    "clf_mnist_100=SVC(kernel='linear')\n",
    "clf_mnist_100.fit(mnist_100_data, mnist_100_labels)\n",
    "### Training and Test Accuracy \n",
    "\n",
    "print(\"Training Accuracy 100 pts MNIST\")\n",
    "train_acc_mn100=accuracy_score(mnist_100_labels, clf_mnist_100.predict(mnist_100_data))\n",
    "print train_acc_mn100\n",
    "val_acc_mn100=accuracy_score(mnist_valid_labels, clf_mnist_100.predict(mnist_valid))\n",
    "print (\"Validation Accuracy 100 pts MNIST\")\n",
    "print val_acc_mn100       "
   ]
  },
  {
   "cell_type": "code",
   "execution_count": 6,
   "metadata": {
    "collapsed": false
   },
   "outputs": [
    {
     "name": "stdout",
     "output_type": "stream",
     "text": [
      "Training Accuracy 200 pts MNIST\n",
      "1.0\n",
      "Validation Accuracy 200 pts MNIST\n",
      "0.7857\n"
     ]
    }
   ],
   "source": [
    "### 200 Samples \n",
    "\n",
    "mnist_200_data=mnist_train[:200]\n",
    "mnist_200_labels=mnist_labels[:200]\n",
    "\n",
    "clf_mnist_200=SVC(kernel='linear')\n",
    "clf_mnist_200.fit(mnist_200_data, mnist_200_labels)\n",
    "### Training and Test Accuracy \n",
    "\n",
    "print(\"Training Accuracy 200 pts MNIST\")\n",
    "train_acc_mn200=accuracy_score(mnist_200_labels, clf_mnist_200.predict(mnist_200_data))\n",
    "print train_acc_mn200\n",
    "val_acc_mn200=accuracy_score(mnist_valid_labels, clf_mnist_200.predict(mnist_valid))\n",
    "print (\"Validation Accuracy 200 pts MNIST\")\n",
    "print val_acc_mn200       "
   ]
  },
  {
   "cell_type": "code",
   "execution_count": 7,
   "metadata": {
    "collapsed": false
   },
   "outputs": [
    {
     "name": "stdout",
     "output_type": "stream",
     "text": [
      "Training Accuracy 500 pts MNIST\n",
      "1.0\n",
      "Validation Accuracy 500 pts MNIST\n",
      "0.8626\n"
     ]
    }
   ],
   "source": [
    "### 500 Samples \n",
    "\n",
    "mnist_500_data=mnist_train[:500]\n",
    "mnist_500_labels=mnist_labels[:500]\n",
    "\n",
    "clf_mnist_500=SVC(kernel='linear')\n",
    "clf_mnist_500.fit(mnist_500_data, mnist_500_labels)\n",
    "### Training and Test Accuracy \n",
    "\n",
    "print(\"Training Accuracy 500 pts MNIST\")\n",
    "train_acc_mn500=accuracy_score(mnist_500_labels, clf_mnist_500.predict(mnist_500_data))\n",
    "print train_acc_mn500\n",
    "val_acc_mn500=accuracy_score(mnist_valid_labels, clf_mnist_500.predict(mnist_valid))\n",
    "print (\"Validation Accuracy 500 pts MNIST\")\n",
    "print val_acc_mn500"
   ]
  },
  {
   "cell_type": "code",
   "execution_count": 8,
   "metadata": {
    "collapsed": false
   },
   "outputs": [
    {
     "name": "stdout",
     "output_type": "stream",
     "text": [
      "Training Accuracy 1000 pts MNIST\n",
      "1.0\n",
      "Validation Accuracy 1000 pts MNIST\n",
      "0.8835\n"
     ]
    }
   ],
   "source": [
    "### 1000 Samples \n",
    "\n",
    "mnist_1000_data=mnist_train[:1000]\n",
    "mnist_1000_labels=mnist_labels[:1000]\n",
    "\n",
    "clf_mnist_1000=SVC(kernel='linear')\n",
    "clf_mnist_1000.fit(mnist_1000_data, mnist_1000_labels)\n",
    "### Training and Test Accuracy \n",
    "\n",
    "print(\"Training Accuracy 1000 pts MNIST\")\n",
    "train_acc_mn1000=accuracy_score(mnist_1000_labels, clf_mnist_1000.predict(mnist_1000_data))\n",
    "print train_acc_mn1000\n",
    "val_acc_mn1000=accuracy_score(mnist_valid_labels, clf_mnist_1000.predict(mnist_valid))\n",
    "print (\"Validation Accuracy 1000 pts MNIST\")\n",
    "print val_acc_mn1000"
   ]
  },
  {
   "cell_type": "code",
   "execution_count": 9,
   "metadata": {
    "collapsed": false
   },
   "outputs": [
    {
     "name": "stdout",
     "output_type": "stream",
     "text": [
      "Training Accuracy 2000 pts MNIST\n",
      "1.0\n",
      "Validation Accuracy 2000 pts MNIST\n",
      "0.8974\n"
     ]
    }
   ],
   "source": [
    "### 2000 Samples \n",
    "\n",
    "mnist_2000_data=mnist_train[:2000]\n",
    "mnist_2000_labels=mnist_labels[:2000]\n",
    "\n",
    "clf_mnist_2000=SVC(kernel='linear')\n",
    "clf_mnist_2000.fit(mnist_2000_data, mnist_2000_labels)\n",
    "### Training and Test Accuracy \n",
    "\n",
    "print(\"Training Accuracy 2000 pts MNIST\")\n",
    "train_acc_mn2000=accuracy_score(mnist_2000_labels, clf_mnist_2000.predict(mnist_2000_data))\n",
    "print train_acc_mn2000\n",
    "val_acc_mn2000=accuracy_score(mnist_valid_labels, clf_mnist_2000.predict(mnist_valid))\n",
    "print (\"Validation Accuracy 2000 pts MNIST\")\n",
    "print val_acc_mn2000"
   ]
  },
  {
   "cell_type": "code",
   "execution_count": 10,
   "metadata": {
    "collapsed": false
   },
   "outputs": [
    {
     "name": "stdout",
     "output_type": "stream",
     "text": [
      "Training Accuracy 5000 pts MNIST\n",
      "1.0\n",
      "Validation Accuracy 5000 pts MNIST\n",
      "0.907\n"
     ]
    }
   ],
   "source": [
    "### 5000 Samples \n",
    "\n",
    "mnist_5000_data=mnist_train[:5000]\n",
    "mnist_5000_labels=mnist_labels[:5000]\n",
    "\n",
    "clf_mnist_5000=SVC(kernel='linear')\n",
    "clf_mnist_5000.fit(mnist_5000_data, mnist_5000_labels)\n",
    "### Training and Test Accuracy \n",
    "\n",
    "print(\"Training Accuracy 5000 pts MNIST\")\n",
    "train_acc_mn5000=accuracy_score(mnist_5000_labels, clf_mnist_5000.predict(mnist_5000_data))\n",
    "print train_acc_mn5000\n",
    "val_acc_mn5000=accuracy_score(mnist_valid_labels, clf_mnist_5000.predict(mnist_valid))\n",
    "print (\"Validation Accuracy 5000 pts MNIST\")\n",
    "print val_acc_mn5000"
   ]
  },
  {
   "cell_type": "code",
   "execution_count": 11,
   "metadata": {
    "collapsed": false
   },
   "outputs": [
    {
     "name": "stdout",
     "output_type": "stream",
     "text": [
      "Training Accuracy 10000 pts MNIST\n",
      "1.0\n",
      "Validation Accuracy 10000 pts MNIST\n",
      "0.9061\n"
     ]
    }
   ],
   "source": [
    "### 10000 Samples \n",
    "\n",
    "mnist_10000_data=mnist_train[:10000]\n",
    "mnist_10000_labels=mnist_labels[:10000]\n",
    "\n",
    "clf_mnist_10000=SVC(kernel='linear')\n",
    "clf_mnist_10000.fit(mnist_10000_data, mnist_10000_labels)\n",
    "### Training and Test Accuracy \n",
    "\n",
    "print(\"Training Accuracy 10000 pts MNIST\")\n",
    "train_acc_mn10000=accuracy_score(mnist_10000_labels, clf_mnist_10000.predict(mnist_10000_data))\n",
    "print train_acc_mn10000\n",
    "val_acc_mn10000=accuracy_score(mnist_valid_labels, clf_mnist_10000.predict(mnist_valid))\n",
    "print (\"Validation Accuracy 10000 pts MNIST\")\n",
    "print val_acc_mn10000"
   ]
  },
  {
   "cell_type": "code",
   "execution_count": 12,
   "metadata": {
    "collapsed": false
   },
   "outputs": [
    {
     "data": {
      "text/plain": [
       "(0.7, 1.1)"
      ]
     },
     "execution_count": 12,
     "metadata": {},
     "output_type": "execute_result"
    },
    {
     "data": {
      "image/png": "[encoded data removed]",
      "text/plain": [
       "<matplotlib.figure.Figure at 0x7f438c71ae50>"
      ]
     },
     "metadata": {},
     "output_type": "display_data"
    }
   ],
   "source": [
    "### Plot of Training vs Validation accuracy \n",
    "train_data_mnist=[100,200,500,1000,2000,5000,10000]\n",
    "train_accuracies_mnist=[train_acc_mn100, train_acc_mn200, train_acc_mn500, train_acc_mn1000, train_acc_mn2000, train_acc_mn5000, train_acc_mn10000]\n",
    "valid_accu_mnist=[val_acc_mn100, val_acc_mn200, val_acc_mn500, val_acc_mn1000, val_acc_mn2000, val_acc_mn5000, val_acc_mn10000]\n",
    "plt.plot(train_data_mnist, train_accuracies_mnist, linewidth=2.0, label=\"training\")\n",
    "plt.plot(train_data_mnist, valid_accu_mnist, linewidth=2.0, color=\"Blue\", label=\"Validation\")\n",
    "plt.legend()\n",
    "plt.xlabel(\"Samples\")\n",
    "plt.ylabel(\"Accuracy\")\n",
    "plt.title(\"MNIST Training vs Validation\")\n",
    "plt.ylim(.70, 1.1)"
   ]
  },
  {
   "cell_type": "markdown",
   "metadata": {},
   "source": [
    "### 2. Spam"
   ]
  },
  {
   "cell_type": "code",
   "execution_count": 13,
   "metadata": {
    "collapsed": false
   },
   "outputs": [
    {
     "name": "stdout",
     "output_type": "stream",
     "text": [
      "('Training accuracy', 100, 'samples =', 0.87)\n",
      "('Validation accuracy', 100, 'samples =', 0.77004830917874401)\n",
      "('Training accuracy', 200, 'samples =', 0.83999999999999997)\n",
      "('Validation accuracy', 200, 'samples =', 0.77198067632850242)\n",
      "('Training accuracy', 500, 'samples =', 0.80600000000000005)\n",
      "('Validation accuracy', 500, 'samples =', 0.78164251207729474)\n",
      "('Training accuracy', 1000, 'samples =', 0.80400000000000005)\n",
      "('Validation accuracy', 1000, 'samples =', 0.78937198067632852)\n",
      "('Training accuracy', 2000, 'samples =', 0.80600000000000005)"
     ]
    },
    {
     "name": "stderr",
     "output_type": "stream",
     "text": [
      "/research/deeplearnEDU/mooc_v2/data/home/surendran/research/deeplearnEDU/mooc_v2/data/lib/python2.7/site-packages/IPython/kernel/__main__.py:8: VisibleDeprecationWarning: using a non-integer number instead of an integer will result in an error in the future\n",
      "/research/deeplearnEDU/mooc_v2/data/home/surendran/research/deeplearnEDU/mooc_v2/data/lib/python2.7/site-packages/IPython/kernel/__main__.py:9: VisibleDeprecationWarning: using a non-integer number instead of an integer will result in an error in the future\n"
     ]
    },
    {
     "name": "stdout",
     "output_type": "stream",
     "text": [
      "\n",
      "('Validation accuracy', 2000, 'samples =', 0.79420289855072468)\n",
      "('Training accuracy', 4137.6, 'samples =', 0.807831762146483)\n",
      "('Validation accuracy', 4137.6, 'samples =', 0.79516908212560389)\n"
     ]
    },
    {
     "data": {
      "image/png": "[encoded data removed]",
      "text/plain": [
       "<matplotlib.figure.Figure at 0x7f438a707890>"
      ]
     },
     "metadata": {},
     "output_type": "display_data"
    }
   ],
   "source": [
    "\n",
    "def spam_classifier(train_data, train_label, valid_data, valid_label, training_samples):\n",
    "    training_acc=[]\n",
    "    valid_acc=[]\n",
    "    \n",
    "    for number in training_samples:\n",
    "        clf=SVC(kernel='linear')\n",
    "        clf.fit(train_data[:number], train_label[:number])\n",
    "        train_acc=accuracy_score(train_label[:number], clf.predict(train_data[:number]))\n",
    "        training_acc.append(train_acc)\n",
    "        validation_acc=accuracy_score(valid_label, clf.predict(valid_data))\n",
    "        valid_acc.append(validation_acc)\n",
    "        print (\"Training accuracy\", number, \"samples =\", train_acc)\n",
    "        print (\"Validation accuracy\", number, \"samples =\", validation_acc)\n",
    "    ## Plot\n",
    "    plt.plot(training_samples, training_acc, linewidth=2.0, label=\"training\")\n",
    "    plt.plot(training_samples, valid_acc, linewidth=2.0, color=\"Blue\", label=\"Validation\")\n",
    "    plt.legend()\n",
    "    plt.xlabel(\"Samples\")\n",
    "    plt.ylabel(\"Accuracy\")\n",
    "    plt.title(\"SPAM Training vs Validation\")\n",
    "    plt.ylim(.70, 1)\n",
    "    \n",
    "    \n",
    "        \n",
    "                    \n",
    "        \n",
    "spam_classifier(spam_train, spam_labels, spam_valid, spam_valid_data,[100,200,500,1000,2000,spam_data.shape[0]*0.8] )\n"
   ]
  },
  {
   "cell_type": "markdown",
   "metadata": {},
   "source": [
    "### 3. CIFAR"
   ]
  },
  {
   "cell_type": "code",
   "execution_count": 14,
   "metadata": {
    "collapsed": false
   },
   "outputs": [
    {
     "name": "stdout",
     "output_type": "stream",
     "text": [
      "('Training accuracy', 100, 'samples =', 1.0)\n",
      "('Validation accuracy', 100, 'samples =', 0.19600000000000001)\n",
      "('Training accuracy', 200, 'samples =', 1.0)\n",
      "('Validation accuracy', 200, 'samples =', 0.25740000000000002)\n",
      "('Training accuracy', 500, 'samples =', 1.0)\n",
      "('Validation accuracy', 500, 'samples =', 0.28639999999999999)\n",
      "('Training accuracy', 1000, 'samples =', 1.0)\n",
      "('Validation accuracy', 1000, 'samples =', 0.2944)\n",
      "('Training accuracy', 2000, 'samples =', 1.0)\n",
      "('Validation accuracy', 2000, 'samples =', 0.29120000000000001)\n",
      "('Training accuracy', 5000, 'samples =', 1.0)\n",
      "('Validation accuracy', 5000, 'samples =', 0.30080000000000001)\n"
     ]
    },
    {
     "data": {
      "image/png": "[encoded data removed]",
      "text/plain": [
       "<matplotlib.figure.Figure at 0x7f438a53b650>"
      ]
     },
     "metadata": {},
     "output_type": "display_data"
    }
   ],
   "source": [
    "def cifar_classifier(train_data, train_label, valid_data, valid_label, training_samples):\n",
    "    training_acc=[]\n",
    "    valid_acc=[]\n",
    "    \n",
    "    for number in training_samples:\n",
    "        clf=SVC(kernel='linear')\n",
    "        clf.fit(train_data[:number], train_label[:number])\n",
    "        train_acc=accuracy_score(train_label[:number], clf.predict(train_data[:number]))\n",
    "        training_acc.append(train_acc)\n",
    "        validation_acc=accuracy_score(valid_label, clf.predict(valid_data))\n",
    "        valid_acc.append(validation_acc)\n",
    "        print (\"Training accuracy\", number, \"samples =\", train_acc)\n",
    "        print (\"Validation accuracy\", number, \"samples =\", validation_acc)\n",
    "    ## Plot\n",
    "    plt.plot(training_samples, training_acc, linewidth=2.0, label=\"training\")\n",
    "    plt.plot(training_samples, valid_acc, linewidth=2.0, color=\"Blue\", label=\"Validation\")\n",
    "    plt.legend()\n",
    "    plt.xlabel(\"Samples\")\n",
    "    plt.ylabel(\"Accuracy\")\n",
    "    plt.title(\"cifar Training vs Validation\")\n",
    "    plt.ylim(.10, 1.1)\n",
    "    \n",
    "    \n",
    "        \n",
    "                    \n",
    "        \n",
    "cifar_classifier(cifar_train, cifar_labels, cifar_valid, cifar_valid_labels,[100,200,500,1000,2000, 5000])\n"
   ]
  },
  {
   "cell_type": "markdown",
   "metadata": {},
   "source": [
    "## Problem 3 - Hyperparameter Tuning - MNIST "
   ]
  },
  {
   "cell_type": "code",
   "execution_count": 15,
   "metadata": {
    "collapsed": false
   },
   "outputs": [
    {
     "name": "stdout",
     "output_type": "stream",
     "text": [
      "Training accuracy for C value 1e-11 = 0.1119\n",
      "Validation accuracy for C value 1e-11 = 0.1074\n",
      "Training accuracy for C value 1e-10 = 0.1119\n",
      "Validation accuracy for C value 1e-10 = 0.1074\n",
      "Training accuracy for C value 1e-09 = 0.6826\n",
      "Validation accuracy for C value 1e-09 = 0.6761\n",
      "Training accuracy for C value 1e-08 = 0.9003\n",
      "Validation accuracy for C value 1e-08 = 0.8929\n",
      "Training accuracy for C value 1e-07 = 0.9375\n",
      "Validation accuracy for C value 1e-07 = 0.9242\n",
      "Training accuracy for C value 1e-06 = 0.9644\n",
      "Validation accuracy for C value 1e-06 = 0.9289\n",
      "Training accuracy for C value 1e-05 = 0.9943\n",
      "Validation accuracy for C value 1e-05 = 0.9131\n",
      "Training accuracy for C value 0.0001 = 1.0\n",
      "Validation accuracy for C value 0.0001 = 0.9061\n",
      "Training accuracy for C value 0.001 = 1.0\n",
      "Validation accuracy for C value 0.001 = 0.9061\n",
      "Training accuracy for C value 0.01 = 1.0\n",
      "Validation accuracy for C value 0.01 = 0.9061\n",
      "Training accuracy for C value 0.1 = 1.0\n",
      "Validation accuracy for C value 0.1 = 0.9061\n",
      "Training accuracy for C value 1.0 = 1.0\n",
      "Validation accuracy for C value 1.0 = 0.9061\n"
     ]
    },
    {
     "data": {
      "image/png": "[encoded data removed]",
      "text/plain": [
       "<matplotlib.figure.Figure at 0x7f438a49fed0>"
      ]
     },
     "metadata": {},
     "output_type": "display_data"
    }
   ],
   "source": [
    "def mnist_classifier(train_data, train_label, valid_data, valid_label,training_samples, c_val):\n",
    "    training_acc=[]\n",
    "    valid_acc=[]\n",
    "    \n",
    "    for number in training_samples:\n",
    "        for c in c_val:\n",
    "            clf=SVC(kernel='linear', C=c)\n",
    "            clf.fit(train_data[:number], train_label[:number])\n",
    "            train_acc=accuracy_score(train_label[:number], clf.predict(train_data[:number]))\n",
    "            training_acc.append(train_acc)\n",
    "            validation_acc=accuracy_score(valid_label, clf.predict(valid_data))\n",
    "            valid_acc.append(validation_acc)\n",
    "            print \"Training accuracy for C value\",c, \"=\", train_acc\n",
    "            print \"Validation accuracy for C value\",c ,\"=\", validation_acc\n",
    "    ## Plot\n",
    "    plt.plot(c_val, training_acc, linewidth=2.0, label=\"training\")\n",
    "    plt.plot(c_val, valid_acc, linewidth=2.0, color=\"Blue\", label=\"Validation\")\n",
    "    plt.legend()\n",
    "    plt.xlabel(\"C Value\")\n",
    "    plt.ylabel(\"Accuracy\")\n",
    "    plt.title(\"MNIST Hyper param  Training vs Validation\")\n",
    "    plt.ylim(.8, 1)\n",
    "    plt.xlim(0.000000000001, 1.1)\n",
    "\n",
    "c=0.000000000001\n",
    "c_values=[]\n",
    "for i in range(12):\n",
    "    c=c*10\n",
    "    c_values.append(c)    \n",
    "mnist_classifier(mnist_train, mnist_labels, mnist_valid, mnist_valid_labels, [10000], c_values )    \n",
    "\n",
    "    "
   ]
  },
  {
   "cell_type": "markdown",
   "metadata": {},
   "source": [
    "Best C value for MNIST hyper parameter tuning =  1e-07 "
   ]
  },
  {
   "cell_type": "markdown",
   "metadata": {},
   "source": [
    "## Problem 4 - K fold Cross Validation - Spam Data"
   ]
  },
  {
   "cell_type": "markdown",
   "metadata": {
    "collapsed": false
   },
   "source": [
    "\n",
    "\n",
    "\n"
   ]
  },
  {
   "cell_type": "code",
   "execution_count": 21,
   "metadata": {
    "collapsed": false
   },
   "outputs": [
    {
     "name": "stdout",
     "output_type": "stream",
     "text": [
      "Training accuracy for C value 1e-05 = 0.709976805761\n",
      "Validation accuracy for C value 1e-05 = 0.709976919986\n",
      "Training accuracy for C value 0.001 = 0.752126753894\n",
      "Validation accuracy for C value 0.001 = 0.750965529485\n",
      "Training accuracy for C value 0.1 = 0.798578787687\n",
      "Validation accuracy for C value 0.1 = 0.796209645016\n",
      "Training accuracy for C value 0.5 = 0.80292919419\n",
      "Validation accuracy for C value 0.5 = 0.802009923472\n",
      "Training accuracy for C value 1 = 0.8041375658\n",
      "Validation accuracy for C value 1 = 0.803169904409\n",
      "Training accuracy for C value 10 = 0.804524272754\n",
      "Validation accuracy for C value 10 = 0.803363328007\n",
      "Training accuracy for C value 20 = 0.805346124338\n",
      "Validation accuracy for C value 20 = 0.803556751605\n",
      "Training accuracy for C value 50 = 0.804620984542\n",
      "Validation accuracy for C value 50 = 0.802590194265\n",
      "Training accuracy for C value 100 = 0.805877782143\n",
      "Validation accuracy for C value 100 = 0.80355712537\n"
     ]
    }
   ],
   "source": [
    "def spam_classifier_2(train_data, train_label, fold=5):\n",
    "    c_val=[0.00001, 0.001, 0.1, 0.5, 1, 10, 20 , 50, 100, 500]\n",
    "    for c in c_val:\n",
    "        training_acc=[]\n",
    "        valid_acc=[]\n",
    "        kf = KFold(n_splits=fold)\n",
    "        for train, test in kf.split(train_data):\n",
    "            clf=SVC(kernel='linear', C=c)\n",
    "            clf.fit(train_data[train], train_label[train])\n",
    "            train_acc=accuracy_score(train_label[train], clf.predict(train_data[train]))\n",
    "            training_acc.append(train_acc)\n",
    "            validation_acc=accuracy_score(train_label[test], clf.predict(train_data[test]))\n",
    "            valid_acc.append(validation_acc)\n",
    "        train_acc=np.mean(training_acc)\n",
    "        validation_acc=np.mean(valid_acc)\n",
    "        print \"Training accuracy for C value\",c, \"=\", train_acc\n",
    "        print \"Validation accuracy for C value\",c ,\"=\", validation_acc\n",
    "        \n",
    "   \n",
    "\n",
    "\n",
    "    \n",
    "c=0.000000000001\n",
    "c_values=[]\n",
    "for i in range(12):\n",
    "    c=c*10\n",
    "    c_values.append(c)\n",
    "spam_dat=spam_data[:,:-1]\n",
    "spam_classifier_2(spam_data[:,:-1], spam_data[:,-1], 5)    \n"
   ]
  },
  {
   "cell_type": "code",
   "execution_count": 70,
   "metadata": {
    "collapsed": false
   },
   "outputs": [
    {
     "data": {
      "text/plain": [
       "(0.7, 0.85)"
      ]
     },
     "execution_count": 70,
     "metadata": {},
     "output_type": "execute_result"
    },
    {
     "data": {
      "image/png": "[encoded data removed]",
      "text/plain": [
       "<matplotlib.figure.Figure at 0x7f4384c2f150>"
      ]
     },
     "metadata": {},
     "output_type": "display_data"
    }
   ],
   "source": [
    "## Plot for Problem 4\n",
    "c_val=[0.00001, 0.001, 0.1, 0.5, 1, 10, 20 , 50, 100]\n",
    "training_acc=[0.709976805761,0.752126753894, 0.798578787687, 0.80292919419, 0.8041375658, 0.804524272754, 0.805346124338, 0.804620984542, 0.805877782143]\n",
    "valid_acc=[0.709976919986,0.750965529485, 0.796209645016, 0.802009923472, 0.803169904409, 0.803363328007,  0.803556751605, 0.802590194265, 0.80355712537]\n",
    "plt.plot(c_val, training_acc, linewidth=1.0, label=\"training\")\n",
    "plt.plot(c_val, valid_acc, linewidth=2.0, color=\"Blue\", label=\"Validation\")\n",
    "plt.legend()\n",
    "plt.xlabel(\"C Value\")\n",
    "plt.ylabel(\"Accuracy\")\n",
    "plt.title(\"SPAM Hyper param  Training vs Validation\")\n",
    "plt.ylim(.7, .85)\n"
   ]
  },
  {
   "cell_type": "markdown",
   "metadata": {},
   "source": [
    "Best C value for SPAM hyper parameter tuning using Kfold cross validation=  20"
   ]
  },
  {
   "cell_type": "markdown",
   "metadata": {},
   "source": [
    "### Problem 5 Kaggle"
   ]
  },
  {
   "cell_type": "code",
   "execution_count": 27,
   "metadata": {
    "collapsed": false
   },
   "outputs": [],
   "source": [
    "## SPAM Kaggle processing \n",
    "\n",
    "\n",
    "spam_test=sio.loadmat(\"spam/spam_data.mat\")\n",
    "\n",
    "spam_test=spam_test[\"test_data\"]"
   ]
  },
  {
   "cell_type": "code",
   "execution_count": 28,
   "metadata": {
    "collapsed": false
   },
   "outputs": [
    {
     "data": {
      "text/plain": [
       "array([[ 0.,  0.,  0., ...,  0.,  0.,  0.],\n",
       "       [ 0.,  0.,  0., ...,  0.,  0.,  0.],\n",
       "       [ 0.,  0.,  0., ...,  0.,  0.,  0.],\n",
       "       ..., \n",
       "       [ 0.,  0.,  0., ...,  0.,  0.,  0.],\n",
       "       [ 0.,  0.,  0., ...,  0.,  0.,  0.],\n",
       "       [ 0.,  0.,  0., ...,  3.,  0.,  0.]])"
      ]
     },
     "execution_count": 28,
     "metadata": {},
     "output_type": "execute_result"
    }
   ],
   "source": [
    "spam_test"
   ]
  },
  {
   "cell_type": "code",
   "execution_count": 44,
   "metadata": {
    "collapsed": false
   },
   "outputs": [
    {
     "data": {
      "text/plain": [
       "SVC(C=20, cache_size=200, class_weight=None, coef0=0.0,\n",
       "  decision_function_shape=None, degree=3, gamma='auto', kernel='linear',\n",
       "  max_iter=-1, probability=False, random_state=None, shrinking=True,\n",
       "  tol=0.001, verbose=False)"
      ]
     },
     "execution_count": 44,
     "metadata": {},
     "output_type": "execute_result"
    }
   ],
   "source": [
    "## Obtaining predictions on the best model for SPAM classifier \n",
    "## Cvalue=20\n",
    "\n",
    "clf=SVC(kernel='linear', C=20)\n",
    "clf.fit(spam_train, spam_labels)"
   ]
  },
  {
   "cell_type": "code",
   "execution_count": 45,
   "metadata": {
    "collapsed": false
   },
   "outputs": [],
   "source": [
    "spam_kaggle=clf.predict(spam_test)"
   ]
  },
  {
   "cell_type": "code",
   "execution_count": 46,
   "metadata": {
    "collapsed": false
   },
   "outputs": [
    {
     "name": "stdout",
     "output_type": "stream",
     "text": [
      "5858\n"
     ]
    }
   ],
   "source": [
    "id=0\n",
    "data=[[\"id\",\"Category\"]]\n",
    "for i in spam_kaggle:\n",
    "    bb=[id, int(i)]\n",
    "    data.append(bb)\n",
    "    id+=1\n",
    "print len(data)"
   ]
  },
  {
   "cell_type": "code",
   "execution_count": 51,
   "metadata": {
    "collapsed": false
   },
   "outputs": [
    {
     "data": {
      "text/plain": [
       "[['id', 'Category'], [0, 0]]"
      ]
     },
     "execution_count": 51,
     "metadata": {},
     "output_type": "execute_result"
    }
   ],
   "source": [
    "data[:2]"
   ]
  },
  {
   "cell_type": "code",
   "execution_count": 52,
   "metadata": {
    "collapsed": false
   },
   "outputs": [],
   "source": [
    "import csv\n",
    "with open(\"spam_kaggle.csv\", \"w\") as output:\n",
    "    writer = csv.writer(output, lineterminator='\\n')\n",
    "    writer.writerows(data)"
   ]
  },
  {
   "cell_type": "code",
   "execution_count": null,
   "metadata": {
    "collapsed": true
   },
   "outputs": [],
   "source": []
  },
  {
   "cell_type": "markdown",
   "metadata": {},
   "source": [
    "#### Kaggle Score SPAM dataset = 0.84119"
   ]
  },
  {
   "cell_type": "code",
   "execution_count": 53,
   "metadata": {
    "collapsed": false
   },
   "outputs": [
    {
     "data": {
      "text/plain": [
       "SVC(C=1e-07, cache_size=200, class_weight=None, coef0=0.0,\n",
       "  decision_function_shape=None, degree=3, gamma='auto', kernel='linear',\n",
       "  max_iter=-1, probability=False, random_state=None, shrinking=True,\n",
       "  tol=0.001, verbose=False)"
      ]
     },
     "execution_count": 53,
     "metadata": {},
     "output_type": "execute_result"
    }
   ],
   "source": [
    "## Obtaining predictions on the best model for MNIST classifier \n",
    "## Cvalue=1e-07\n",
    "\n",
    "clf_mnist=SVC(kernel='linear', C=1e-07)\n",
    "clf_mnist.fit(mnist_train, mnist_labels)"
   ]
  },
  {
   "cell_type": "code",
   "execution_count": 54,
   "metadata": {
    "collapsed": true
   },
   "outputs": [],
   "source": [
    "mnist_test=mnist_data=sio.loadmat(\"mnist/test.mat\") "
   ]
  },
  {
   "cell_type": "code",
   "execution_count": 56,
   "metadata": {
    "collapsed": false
   },
   "outputs": [],
   "source": [
    "mnist_test=mnist_test[\"testX\"]"
   ]
  },
  {
   "cell_type": "code",
   "execution_count": 58,
   "metadata": {
    "collapsed": false
   },
   "outputs": [
    {
     "data": {
      "text/plain": [
       "array([[0, 0, 0, ..., 0, 0, 0],\n",
       "       [0, 0, 0, ..., 0, 0, 0],\n",
       "       [0, 0, 0, ..., 0, 0, 0],\n",
       "       ..., \n",
       "       [0, 0, 0, ..., 0, 0, 0],\n",
       "       [0, 0, 0, ..., 0, 0, 0],\n",
       "       [0, 0, 0, ..., 0, 0, 0]])"
      ]
     },
     "execution_count": 58,
     "metadata": {},
     "output_type": "execute_result"
    }
   ],
   "source": [
    "mnist_test"
   ]
  },
  {
   "cell_type": "code",
   "execution_count": 61,
   "metadata": {
    "collapsed": false
   },
   "outputs": [],
   "source": [
    "mnist_kaggle=clf_mnist.predict(mnist_test)"
   ]
  },
  {
   "cell_type": "code",
   "execution_count": 62,
   "metadata": {
    "collapsed": false
   },
   "outputs": [
    {
     "name": "stdout",
     "output_type": "stream",
     "text": [
      "10001\n"
     ]
    }
   ],
   "source": [
    "id=0\n",
    "data=[[\"id\",\"Category\"]]\n",
    "for i in mnist_kaggle:\n",
    "    bb=[id, int(i)]\n",
    "    data.append(bb)\n",
    "    id+=1\n",
    "print len(data)"
   ]
  },
  {
   "cell_type": "code",
   "execution_count": 63,
   "metadata": {
    "collapsed": false
   },
   "outputs": [
    {
     "data": {
      "text/plain": [
       "[['id', 'Category'], [0, 6]]"
      ]
     },
     "execution_count": 63,
     "metadata": {},
     "output_type": "execute_result"
    }
   ],
   "source": [
    "data[:2]"
   ]
  },
  {
   "cell_type": "code",
   "execution_count": 64,
   "metadata": {
    "collapsed": true
   },
   "outputs": [],
   "source": [
    "import csv\n",
    "with open(\"mnist_kaggle.csv\", \"w\") as output:\n",
    "    writer = csv.writer(output, lineterminator='\\n')\n",
    "    writer.writerows(data)"
   ]
  },
  {
   "cell_type": "markdown",
   "metadata": {},
   "source": [
    "\n",
    "#### Kaggle Score MNIST dataset = 0.94180"
   ]
  }
 ],
 "metadata": {
  "anaconda-cloud": {},
  "kernelspec": {
   "display_name": "Python [python2]",
   "language": "python",
   "name": "Python [python2]"
  },
  "language_info": {
   "codemirror_mode": {
    "name": "ipython",
    "version": 2
   },
   "file_extension": ".py",
   "mimetype": "text/x-python",
   "name": "python",
   "nbconvert_exporter": "python",
   "pygments_lexer": "ipython2",
   "version": "2.7.12"
  }
 },
 "nbformat": 4,
 "nbformat_minor": 0
}
